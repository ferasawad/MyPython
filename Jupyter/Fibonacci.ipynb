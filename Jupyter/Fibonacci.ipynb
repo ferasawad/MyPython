{
 "nbformat": 4,
 "nbformat_minor": 2,
 "metadata": {
  "language_info": {
   "name": "python",
   "codemirror_mode": {
    "name": "ipython",
    "version": 3
   },
   "version": "3.8.1-final"
  },
  "orig_nbformat": 2,
  "file_extension": ".py",
  "mimetype": "text/x-python",
  "name": "python",
  "npconvert_exporter": "python",
  "pygments_lexer": "ipython3",
  "version": 3,
  "kernelspec": {
   "name": "python38132bit5ba57b35c7d14a7c944a6fd15f97b86f",
   "display_name": "Python 3.8.1 32-bit"
  }
 },
 "cells": [
  {
   "cell_type": "code",
   "execution_count": 8,
   "metadata": {},
   "outputs": [],
   "source": [
    "#   this function is too slow\n",
    "def fibonacci_1(n):\n",
    "    if n == 1 :\n",
    "        return 1\n",
    "    elif n == 2 :\n",
    "        return 1\n",
    "    elif n > 2 :\n",
    "        return fibonacci_1(n-1) + fibonacci_1(n-2)"
   ]
  },
  {
   "cell_type": "code",
   "execution_count": 9,
   "metadata": {},
   "outputs": [
    {
     "output_type": "stream",
     "name": "stdout",
     "text": "1 : 1\n2 : 1\n3 : 2\n4 : 3\n5 : 5\n6 : 8\n7 : 13\n8 : 21\n9 : 34\n10 : 55\n"
    }
   ],
   "source": [
    "for i in range(1,11):\n",
    "    print(i , \":\", fibonacci_1(i))"
   ]
  },
  {
   "cell_type": "code",
   "execution_count": null,
   "metadata": {},
   "outputs": [],
   "source": []
  }
 ]
}